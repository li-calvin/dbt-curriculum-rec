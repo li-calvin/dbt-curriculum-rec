{
 "cells": [
  {
   "cell_type": "code",
   "execution_count": 74,
   "metadata": {},
   "outputs": [],
   "source": [
    "import pandas as pd\n",
    "from nltk.tokenize import word_tokenize\n",
    "import re\n",
    "\n",
    "def clean_text(input_file, output_file, columns): \n",
    "    # Read the CSV file into a DataFrame\n",
    "    df = pd.read_csv(input_file)\n",
    "\n",
    "    # Filter rows where the language is English\n",
    "    df = df[df['language'] == 'en']\n",
    "\n",
    "    # Function to clean text and remove surrounding quotes\n",
    "    def clean_text(text):\n",
    "        # Convert to string and handle NaN\n",
    "        text = str(text)\n",
    "        \n",
    "        # Tokenize the text to handle quotes and spaces\n",
    "        tokens = word_tokenize(text)\n",
    "        \n",
    "        # Remove surrounding quotes from each token\n",
    "        cleaned_tokens = [re.sub(r'^\"|\"$', '', token) for token in tokens]\n",
    "        \n",
    "        # Join tokens back into a single string\n",
    "        cleaned_text = ' '.join(cleaned_tokens)\n",
    "        \n",
    "        return cleaned_text\n",
    "\n",
    "    # Clean and strip quotes from the title and description columns\n",
    "    for column in columns:\n",
    "        df[column] = df[column].apply(clean_text)\n",
    "   \n",
    "\n",
    "    # Fill missing values with an empty string\n",
    "    df.fillna('', inplace=True)\n",
    "\n",
    "    # Save the cleaned DataFrame to a new CSV file with UTF-8 encoding\n",
    "    df.to_csv(output_file, index=False)\n",
    "    # print(f'Cleaned CSV file saved to {cleaned_file_path} successfully.')\n"
   ]
  },
  {
   "cell_type": "code",
   "execution_count": 76,
   "metadata": {},
   "outputs": [],
   "source": [
    "clean_text('raw_data/topics.csv', 'raw_data/cleaned_topics.csv', ['title', 'description'])\n",
    "clean_text('raw_data/content.csv', 'raw_data/cleaned_content.csv', ['title', 'description','text'])"
   ]
  },
  {
   "cell_type": "code",
   "execution_count": 80,
   "metadata": {},
   "outputs": [],
   "source": [
    "# Cleaning up correlations to ensure referential integreity and removing the list \n",
    "# one topic id has to associate with a s ingle contend id not a list of content ids \n",
    "\n",
    "correl = pd.read_csv('raw_data/correlations.csv')\n",
    "# Split the content_ids into lists\n",
    "correl['content_ids'] = correl['content_ids'].str.split()\n",
    "\n",
    "# Explode the lists to create a row for each content_id\n",
    "correl = correl.explode('content_ids')\n",
    "\n",
    "# Rename the columns for clarity\n",
    "correl = correl.rename(columns={'content_ids': 'content_id'})\n",
    "correl.to_csv('raw_data/cleaned_correlations.csv', index=False)\n",
    "\n"
   ]
  },
  {
   "cell_type": "code",
   "execution_count": null,
   "metadata": {},
   "outputs": [],
   "source": []
  }
 ],
 "metadata": {
  "kernelspec": {
   "display_name": "ds",
   "language": "python",
   "name": "python3"
  },
  "language_info": {
   "codemirror_mode": {
    "name": "ipython",
    "version": 3
   },
   "file_extension": ".py",
   "mimetype": "text/x-python",
   "name": "python",
   "nbconvert_exporter": "python",
   "pygments_lexer": "ipython3",
   "version": "3.12.2"
  }
 },
 "nbformat": 4,
 "nbformat_minor": 2
}
