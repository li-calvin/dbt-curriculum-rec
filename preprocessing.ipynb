{
 "cells": [
  {
   "cell_type": "code",
   "execution_count": 17,
   "metadata": {},
   "outputs": [],
   "source": [
    "import pandas as pd\n",
    "from nltk.tokenize import word_tokenize\n",
    "import re\n",
    "import inflect"
   ]
  },
  {
   "cell_type": "code",
   "execution_count": 74,
   "metadata": {},
   "outputs": [],
   "source": [
    "def clean_text(input_file, output_file, columns): \n",
    "    \"\"\" \n",
    "    Clean text data in a CSV file by removing surrounding quotes and filling missing values.\n",
    "    :param input_file: path to the input CSV file\n",
    "    :param output_file: path to save the cleaned CSV file\n",
    "    :param columns: list of columns to be cleaned\n",
    "    \"\"\"\n",
    "    # Read the CSV file into a DataFrame\n",
    "    df = pd.read_csv(input_file)\n",
    "\n",
    "    # Filter rows where the language is English\n",
    "    df = df[df['language'] == 'en']\n",
    "\n",
    "    # Function to clean text and remove surrounding quotes\n",
    "    def clean_text(text):\n",
    "        text = str(text)\n",
    "        tokens = word_tokenize(text)\n",
    "        \n",
    "        # Remove surrounding quotes from each token\n",
    "        cleaned_tokens = [re.sub(r'^\"|\"$', '', token) for token in tokens]\n",
    "    \n",
    "        cleaned_text = ' '.join(cleaned_tokens)\n",
    "        return cleaned_text\n",
    "\n",
    "    # Clean and strip quotes from the respective columns \n",
    "    for column in columns:\n",
    "        df[column] = df[column].apply(clean_text)\n",
    "   \n",
    "    # Fill missing values with an empty string\n",
    "    df.fillna('', inplace=True)\n",
    "\n",
    "    # Save the cleaned DataFrame to a new CSV file with UTF-8 encoding\n",
    "    df.to_csv(output_file, index=False)\n",
    "    # print(f'Cleaned CSV file saved to {cleaned_file_path} successfully.')\n"
   ]
  },
  {
   "cell_type": "code",
   "execution_count": 76,
   "metadata": {},
   "outputs": [],
   "source": [
    "clean_text('raw_data/topics.csv', 'raw_data/cleaned_topics.csv', ['title', 'description'])\n",
    "clean_text('raw_data/content.csv', 'raw_data/cleaned_content.csv', ['title', 'description','text'])"
   ]
  },
  {
   "cell_type": "code",
   "execution_count": 80,
   "metadata": {},
   "outputs": [],
   "source": [
    "# Cleaning up correlations to ensure referential integreity and removing the list \n",
    "# one topic id has to associate with a single contend id not a list of content ids \n",
    "\n",
    "correl = pd.read_csv('raw_data/correlations.csv')\n",
    "correl['content_ids'] = correl['content_ids'].str.split()\n",
    "\n",
    "# Explode the lists to create a row for each content_id\n",
    "correl = correl.explode('content_ids')\n",
    "\n",
    "# Rename the columns for clarity\n",
    "correl = correl.rename(columns={'content_ids': 'content_id'})\n",
    "correl.to_csv('raw_data/cleaned_correlations.csv', index=False)\n",
    "\n"
   ]
  },
  {
   "cell_type": "code",
   "execution_count": 40,
   "metadata": {},
   "outputs": [],
   "source": [
    "def preprocess_text(text):\n",
    "    \"\"\"\n",
    "    :param text: a string of text to be preprocessed\n",
    "    \"\"\"\n",
    "    # Convert to string and handle NaN\n",
    "    text = str(text)\n",
    "    \n",
    "    # Initialize the inflect engine\n",
    "    p = inflect.engine()\n",
    "    \n",
    "    # Function to convert numbers to words\n",
    "    def number_to_words(match):\n",
    "        return p.number_to_words(match.group(0))\n",
    "    \n",
    "    # Remove non-UTF characters\n",
    "    text = re.sub(r'[^\\x00-\\x7F]+', ' ', text)\n",
    "    \n",
    "    # Remove unwanted symbols and punctuation\n",
    "    text = re.sub(r'[^\\w\\s]', '', text)\n",
    "\n",
    "    # Remove digits \n",
    "    text = re.sub(r'\\d+', number_to_words, text)\n",
    "\n",
    "    # Convert text to lower case \n",
    "    text = text.lower()  \n",
    "    \n",
    "    return text"
   ]
  },
  {
   "cell_type": "code",
   "execution_count": 41,
   "metadata": {},
   "outputs": [
    {
     "name": "stdout",
     "output_type": "stream",
     "text": [
      "115\n"
     ]
    }
   ],
   "source": [
    "# Fix copyright_holder information so that it is clean \n",
    "holder_df = pd.read_csv('raw_data/cleaned_content.csv')\n",
    "print(len(holder_df['copyright_holder'].unique().tolist()))\n",
    "\n",
    "holder_df['copyright_holder'] = holder_df['copyright_holder'].apply(preprocess_text)\n",
    "holder_df.to_csv('raw_data/cleaned_content_final.csv', index=False)"
   ]
  },
  {
   "cell_type": "code",
   "execution_count": 39,
   "metadata": {},
   "outputs": [
    {
     "data": {
      "text/plain": [
       "114"
      ]
     },
     "execution_count": 39,
     "metadata": {},
     "output_type": "execute_result"
    }
   ],
   "source": [
    "# Double check \n",
    "len(holder_df['copyright_holder'].unique().tolist())"
   ]
  }
 ],
 "metadata": {
  "kernelspec": {
   "display_name": "ds",
   "language": "python",
   "name": "python3"
  },
  "language_info": {
   "codemirror_mode": {
    "name": "ipython",
    "version": 3
   },
   "file_extension": ".py",
   "mimetype": "text/x-python",
   "name": "python",
   "nbconvert_exporter": "python",
   "pygments_lexer": "ipython3",
   "version": "3.12.2"
  }
 },
 "nbformat": 4,
 "nbformat_minor": 2
}
